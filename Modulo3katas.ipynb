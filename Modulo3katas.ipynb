{
 "cells": [
  {
   "cell_type": "markdown",
   "metadata": {},
   "source": [
    "# katas Modulo 3"
   ]
  },
  {
   "cell_type": "markdown",
   "metadata": {},
   "source": [
    "#Ejercicio \n",
    "\n",
    "Para este ejercicio, escribirás una lógica condicional que imprima una advertencia si un asteroide se acerca a la Tierra demasiado rápido. La velocidad del asteroide varía dependiendo de lo cerca que esté del sol, y cualquier velocidad superior a 25 kilómetros por segundo (km/s) merece una advertencia.\n",
    "\n",
    "Un asteroide se acerca, y viaja a una velocidad de 49 km/s."
   ]
  },
  {
   "cell_type": "code",
   "execution_count": 33,
   "metadata": {},
   "outputs": [
    {
     "name": "stdout",
     "output_type": "stream",
     "text": [
      " Peligro se aproxima un Asteroide a alta velocidad\n"
     ]
    }
   ],
   "source": [
    "vp = 25\n",
    "va = 49\n",
    "\n",
    "if vp < va:\n",
    "    print(\" Peligro se aproxima un Asteroide a alta velocidad\")\n",
    "else:\n",
    "    print(\"Cielo despejado\")"
   ]
  },
  {
   "cell_type": "markdown",
   "metadata": {},
   "source": [
    "# Ejercio 2\n",
    "si un asteroide entra en la atmósfera de la Tierra a una velocidad mayor o igual a 20 km/s, a veces produce un rayo de luz que se puede ver desde la Tierra. Escribe la lógica condicional que usa declaraciones if, else, y elif para alertar a las personas de todo el mundo que deben buscar un asteroide en el cielo. ¡Hay uno que se dirige a la tierra ahora a una velocidad de 19 km/s!"
   ]
  },
  {
   "cell_type": "code",
   "execution_count": 12,
   "metadata": {},
   "outputs": [
    {
     "name": "stdout",
     "output_type": "stream",
     "text": [
      "Seguir al pendiente de las alertas\n"
     ]
    }
   ],
   "source": [
    "velMax = 25\n",
    "velAst = 19\n",
    "velRayo = 20\n",
    "\n",
    "\n",
    "if velMax < velAst:\n",
    "    print(\"Peligro se aproxima un Asteroide a alta velocidad\")\n",
    "elif velAst >= velRayo:\n",
    "    print(\"buscar rayos de luz en el cielo\")\n",
    "\n",
    "else:    \n",
    "     print(\"Seguir al pendiente de las alertas\")\n"
   ]
  },
  {
   "cell_type": "markdown",
   "metadata": {},
   "source": [
    "# Ejercicio 3\n",
    "En este ejercicio, aprenderás información más matizada sobre cuándo los asteroides representan un peligro para la Tierra, y utilizarás esa información para mejorar nuestro sistema de advertencia. Aquí está la nueva información que necesitas saber:\n",
    "\n",
    "*Los asteroides de menos de 25 metros en su dimensión más grande probablemente se quemarán a medida que entren en la atmósfera de la Tierra.\n",
    "\n",
    "    Si una pieza de un asteroide que es más grande que 25 metros pero más pequeña que 1000 metros golpeara la Tierra, causaría mucho daño.\n",
    "\n",
    "También discutimos en el ejercicio anterior que:\n",
    "\n",
    "    La velocidad del asteroide varía en función de lo cerca que esté del sol, y cualquier velocidad superior a 25 kilómetros por segundo (km/s) merece una advertencia.\n",
    "    Si un asteroide entra en la atmósfera de la Tierra a una velocidad mayor o igual a 20 km/s, a veces produce un rayo de luz que se puede ver desde la Tierra.\n",
    "\n",
    "Usando toda esta información, escribe un programa que emita la advertencia o información correcta a la gente de la Tierra, según la velocidad y el tamaño de un asteroide. Utiliza instrucciones if, else, y elif, así como los operadores and y or.\n",
    "\n",
    " Agrega el código para crear nuevas variables para la velocidad y el tamaño del asteroide\n",
    " Para probar el código, prueba con varias velocidades y tamaños\n",
    " Escribe varias expresiones de prueba o combinaciones de expresiones de prueba para determinar qué mensaje se debe enviar a Tierra.\n",
    "\n"
   ]
  },
  {
   "cell_type": "code",
   "execution_count": 29,
   "metadata": {},
   "outputs": [
    {
     "name": "stdout",
     "output_type": "stream",
     "text": [
      "Seguir al pendiente de las alertas\n"
     ]
    }
   ],
   "source": [
    "velMax = 25\n",
    "velAst = 19\n",
    "velRayo = 20   \n",
    "tamAst = 25\n",
    "tamMax = 25\n",
    "\n",
    "if velAst >= velMax and tamAst >= tamMax:\n",
    "    print('Peligro asteroide a se aproxima a gran velociad y se impactara en la tierra')  \n",
    "\n",
    "elif velMax < velAst:\n",
    "    print(\"Peligro se aproxima un Asteroide a alta velocidad\")\n",
    "elif velAst >= velRayo:\n",
    "    print(\"buscar rayos de luz en el cielo\")\n",
    "else:    \n",
    "     print(\"Seguir al pendiente de las alertas\")"
   ]
  },
  {
   "cell_type": "code",
   "execution_count": null,
   "metadata": {},
   "outputs": [],
   "source": []
  }
 ],
 "metadata": {
  "interpreter": {
   "hash": "e9115fa8e2ed8cc8fbf1ff7fb90ad7bab55e93668553e92370c19c3887cb19b9"
  },
  "kernelspec": {
   "display_name": "Python 3.10.2 64-bit",
   "language": "python",
   "name": "python3"
  },
  "language_info": {
   "codemirror_mode": {
    "name": "ipython",
    "version": 3
   },
   "file_extension": ".py",
   "mimetype": "text/x-python",
   "name": "python",
   "nbconvert_exporter": "python",
   "pygments_lexer": "ipython3",
   "version": "3.10.2"
  },
  "orig_nbformat": 4
 },
 "nbformat": 4,
 "nbformat_minor": 2
}
