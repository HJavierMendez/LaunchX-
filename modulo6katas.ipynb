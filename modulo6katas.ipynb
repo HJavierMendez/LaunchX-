{
 "cells": [
  {
   "cell_type": "markdown",
   "metadata": {},
   "source": [
    "# Ejercicio 1: Crear y usar listas de Python"
   ]
  },
  {
   "cell_type": "code",
   "execution_count": 9,
   "metadata": {},
   "outputs": [
    {
     "name": "stdout",
     "output_type": "stream",
     "text": [
      "['Mercurio', 'Venus', 'Tierra', 'Marte', 'Jupiter', 'Saturno', 'Urano', 'Neptuno']\n",
      "9\n"
     ]
    }
   ],
   "source": [
    "planets = ['Mercurio', 'Venus', 'Tierra', 'Marte', 'Jupiter', 'Saturno', 'Urano', 'Neptuno']\n",
    "\n",
    "print(planets)\n",
    "\n",
    "planets.append('Pluton')\n",
    "\n",
    "print(len(planets))\n",
    "\n"
   ]
  },
  {
   "cell_type": "markdown",
   "metadata": {},
   "source": [
    "# Ejercicio 2: Trabajando con datos de una lista\n"
   ]
  },
  {
   "cell_type": "code",
   "execution_count": 38,
   "metadata": {},
   "outputs": [
    {
     "name": "stdout",
     "output_type": "stream",
     "text": [
      "Ingrese el nombre del planta con la inicial en mayuscula\n",
      "Mars tiene la posicion 4 en la lista\n"
     ]
    }
   ],
   "source": [
    "planets = ['Mercury', 'Venus', 'Earth', 'Mars', 'Jupiter', 'Saturn', 'Neptune']\n",
    "\n",
    "print('Ingrese el nombre del planta con la inicial en mayuscula')\n",
    "planet = (input())\n",
    "\n",
    "planet_index = planets.index (planet)\n",
    "print(planet,'tiene la posicion', planet_index + 1, 'en la lista')"
   ]
  },
  {
   "cell_type": "code",
   "execution_count": 50,
   "metadata": {},
   "outputs": [
    {
     "name": "stdout",
     "output_type": "stream",
     "text": [
      "Muestra planetas mas cercanos al sol que Mars ['Mercury', 'Venus', 'Earth']\n"
     ]
    }
   ],
   "source": [
    "\n",
    "planets_before= planets[0:planet_index]\n",
    "print('Muestra planetas mas cercanos al sol que', planet, planets_before)"
   ]
  },
  {
   "cell_type": "code",
   "execution_count": 51,
   "metadata": {},
   "outputs": [
    {
     "name": "stdout",
     "output_type": "stream",
     "text": [
      "Muestra planetas mas alejados al sol que Mars ['Jupiter', 'Saturn', 'Neptune']\n"
     ]
    }
   ],
   "source": [
    "planets_after= planets[planet_index + 1:]\n",
    "print('Muestra planetas mas alejados al sol que', planet, planets_after)"
   ]
  }
 ],
 "metadata": {
  "interpreter": {
   "hash": "e9115fa8e2ed8cc8fbf1ff7fb90ad7bab55e93668553e92370c19c3887cb19b9"
  },
  "kernelspec": {
   "display_name": "Python 3.10.2 64-bit",
   "language": "python",
   "name": "python3"
  },
  "language_info": {
   "codemirror_mode": {
    "name": "ipython",
    "version": 3
   },
   "file_extension": ".py",
   "mimetype": "text/x-python",
   "name": "python",
   "nbconvert_exporter": "python",
   "pygments_lexer": "ipython3",
   "version": "3.10.2"
  },
  "orig_nbformat": 4
 },
 "nbformat": 4,
 "nbformat_minor": 2
}
