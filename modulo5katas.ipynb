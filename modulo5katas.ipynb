{
 "cells": [
  {
   "cell_type": "markdown",
   "metadata": {},
   "source": [
    "# Operadores aritméticos en Python"
   ]
  },
  {
   "cell_type": "code",
   "execution_count": 3,
   "metadata": {},
   "outputs": [
    {
     "name": "stdout",
     "output_type": "stream",
     "text": [
      "los kilometros de  distancia entre planetas es:  628949330\n"
     ]
    }
   ],
   "source": [
    "\n",
    "\n",
    "disTierra = 149597870\n",
    "\n",
    "disJúpiter = 778547200\n",
    "\n",
    "resta = (abs(disTierra - disJúpiter))\n",
    "print(\"los kilometros de  distancia entre planetas es: \",resta)\n",
    "\n",
    "\n",
    "\n"
   ]
  },
  {
   "cell_type": "code",
   "execution_count": 5,
   "metadata": {},
   "outputs": [
    {
     "name": "stdout",
     "output_type": "stream",
     "text": [
      "las millas de distancia entre planetas es :  39057754\n"
     ]
    }
   ],
   "source": [
    "from math import ceil\n",
    "mul= resta * .0621\n",
    "millas = (ceil(mul))\n",
    "\n",
    "print(\"las millas de distancia entre planetas es : \", millas)\n"
   ]
  },
  {
   "cell_type": "markdown",
   "metadata": {},
   "source": [
    "# Crear una aplicación para trabajar con números y entrada de usuario\n"
   ]
  },
  {
   "cell_type": "code",
   "execution_count": 5,
   "metadata": {},
   "outputs": [
    {
     "name": "stdout",
     "output_type": "stream",
     "text": [
      "Ingrese la distacia del sol al primer planeta:\n",
      "Ingrese la distancia del sol al segundo  planeta:\n",
      "los kilometros de  distancia entre planetas es:  50\n",
      "las millas de distancia entre planetas es :  3.105\n"
     ]
    }
   ],
   "source": [
    "\n",
    "print(\"Ingrese la distacia del sol al primer planeta:\")\n",
    "planeta1 = int(input())\n",
    "print(\"Ingrese la distancia del sol al segundo  planeta:\")\n",
    "planeta2 = int(input())\n",
    "\n",
    "\n",
    "resta = (abs(planeta1- planeta2))\n",
    "print(\"los kilometros de  distancia entre planetas es: \",resta)\n",
    "\n",
    "\n",
    "mul= resta * .0621\n",
    "millas = (mul)\n",
    "\n",
    "print(\"las millas de distancia entre planetas es : \", millas)\n"
   ]
  }
 ],
 "metadata": {
  "interpreter": {
   "hash": "e9115fa8e2ed8cc8fbf1ff7fb90ad7bab55e93668553e92370c19c3887cb19b9"
  },
  "kernelspec": {
   "display_name": "Python 3.10.2 64-bit",
   "language": "python",
   "name": "python3"
  },
  "language_info": {
   "codemirror_mode": {
    "name": "ipython",
    "version": 3
   },
   "file_extension": ".py",
   "mimetype": "text/x-python",
   "name": "python",
   "nbconvert_exporter": "python",
   "pygments_lexer": "ipython3",
   "version": "3.10.2"
  },
  "orig_nbformat": 4
 },
 "nbformat": 4,
 "nbformat_minor": 2
}
